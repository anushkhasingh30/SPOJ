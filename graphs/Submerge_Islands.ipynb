{
  "nbformat": 4,
  "nbformat_minor": 0,
  "metadata": {
    "colab": {
      "name": "Submerge Islands.ipynb",
      "provenance": []
    },
    "kernelspec": {
      "name": "python3",
      "display_name": "Python 3"
    },
    "language_info": {
      "name": "python"
    }
  },
  "cells": [
    {
      "cell_type": "code",
      "execution_count": 10,
      "metadata": {
        "colab": {
          "base_uri": "https://localhost:8080/"
        },
        "id": "YQXzsJYcv5IY",
        "outputId": "7dc8a19d-de9d-44c1-c0bd-4ff542900b8b"
      },
      "outputs": [
        {
          "output_type": "stream",
          "name": "stdout",
          "text": [
            "6 7\n",
            "1 2\n",
            "2 3\n",
            "3 4\n",
            "2 4\n",
            "1 5\n",
            "1 6\n",
            "5 6\n",
            "[0, 1, 2, 3, 4, 5, 6] [0, 1, 2, 2, 2, 1, 1]\n",
            "2\n"
          ]
        }
      ],
      "source": [
        "class graph():\n",
        "  def __init__(self, vertices, edges):\n",
        "    self.vertices = vertices\n",
        "    self.edges = edges\n",
        "    self.__m = edges\n",
        "    self.adj_list = [[] for _ in range(self.vertices+1)]\n",
        "  \n",
        "  def add_edges(self):\n",
        "    while self.__m:\n",
        "      a,b = list(map(int, input().split()))\n",
        "      self.adj_list[a].append(b)\n",
        "      self.adj_list[b].append(a)\n",
        "      self.__m -= 1\n",
        "  \n",
        "  def dfs(self, node, par):\n",
        "    self.vis[node] = 1\n",
        "    self.in_time[node] = self.timer\n",
        "    self.low_time[node] = self.timer\n",
        "    self.timer += 1\n",
        "    children = 0\n",
        "\n",
        "    for child in self.adj_list[node]:\n",
        "      if self.vis[child] == 0:\n",
        "        self.dfs(child, node)\n",
        "        self.low_time[node] = min(self.low_time[node], self.low_time[child])\n",
        "        if self.low_time[child] >= self.in_time[node] and par != -1:\n",
        "          self.res.append(node)\n",
        "        children += 1      \n",
        "      else:\n",
        "        if par == child:\n",
        "          continue\n",
        "        else:\n",
        "          self.low_time[node] = min(self.low_time[node], self.low_time[child])\n",
        "    \n",
        "    if children > 1 and par == -1:\n",
        "      self.res.append(node)\n",
        "\n",
        "  def sub_islands(self):\n",
        "    self.add_edges()\n",
        "    self.res = []\n",
        "    self.timer = 1\n",
        "    self.vis = [0 for _ in range(self.vertices+1)]\n",
        "    self.in_time = [0 for _ in range(self.vertices+1)]\n",
        "    self.low_time = [0 for _ in range(self.vertices+1)]\n",
        "\n",
        "    for node in range(1, self.vertices+1):\n",
        "      if self.vis[node] == 0:\n",
        "        self.dfs(node, -1)\n",
        "    print(self.in_time, self.low_time)\n",
        "    return len(self.res)\n",
        "\n",
        "def main():\n",
        "  v,e = list(map(int, input().split()))\n",
        "  g = graph(v,e)\n",
        "  print(g.sub_islands())\n",
        "\n",
        "main()"
      ]
    },
    {
      "cell_type": "code",
      "source": [
        ""
      ],
      "metadata": {
        "id": "aAKSDhlt1IAJ"
      },
      "execution_count": null,
      "outputs": []
    }
  ]
}